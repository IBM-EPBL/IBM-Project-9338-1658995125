{
 "cells": [
  {
   "cell_type": "code",
   "execution_count": 10,
   "id": "1193f41b",
   "metadata": {},
   "outputs": [
    {
     "name": "stdout",
     "output_type": "stream",
     "text": [
      "Found 2626 images belonging to 1 classes.\n",
      "Found 1055 images belonging to 5 classes.\n"
     ]
    }
   ],
   "source": [
    "from keras.preprocessing.image import ImageDataGenerator\n",
    "train_datagen = ImageDataGenerator(rescale = 1./255,shear_range=0.2,zoom_range=0.2,horizontal_flip=True)\n",
    "test_datagen = ImageDataGenerator(rescale = 1./255)\n",
    "x_train = train_datagen.flow_from_directory(r'C:\\Users\\HP\\Desktop\\data_set\\TRAIN_SET',target_size = (64,64) ,batch_size = 5,color_mode='rgb',class_mode = 'sparse')\n",
    "x_test = test_datagen.flow_from_directory(r'C:\\Users\\HP\\Desktop\\data_set\\TEST_SET-20221101T044129Z-001\\TEST_SET',target_size = (64,64) ,batch_size = 5,color_mode='rgb',class_mode = 'sparse')"
   ]
  },
  {
   "cell_type": "code",
   "execution_count": 11,
   "id": "5326e5d1",
   "metadata": {},
   "outputs": [],
   "source": [
    "import numpy as np #used for numerical analysis\n",
    "import tensorflow #open source used for both ML and DL for computatio\n",
    "from tensorflow.keras.models import Sequential #it is a palin stack of layer \n",
    "from tensorflow.keras.layers import Layer #Alayer consists of a tensor-in tensor-out computation function\n",
    "from tensorflow.keras.layers import Dense,Flatten #flattening the input or change the dimension\n",
    "from tensorflow.keras.layers import Conv2D,MaxPooling2D,Dropout #convolution layer , MaxPooling2D-for downsampling the image\n",
    "from keras.preprocessing.image import ImageDataGenerator"
   ]
  },
  {
   "cell_type": "code",
   "execution_count": 12,
   "id": "f117d2cf",
   "metadata": {},
   "outputs": [],
   "source": [
    "model=Sequential()"
   ]
  },
  {
   "cell_type": "code",
   "execution_count": 13,
   "id": "f4f47abf",
   "metadata": {},
   "outputs": [],
   "source": [
    "model.add(Conv2D(32,(3,3),input_shape=(64,64,3),activation='relu'))"
   ]
  },
  {
   "cell_type": "code",
   "execution_count": 14,
   "id": "8d8e6cea",
   "metadata": {},
   "outputs": [],
   "source": [
    "model.add(MaxPooling2D(pool_size =(2,2)))"
   ]
  },
  {
   "cell_type": "code",
   "execution_count": 15,
   "id": "4b7cfa45",
   "metadata": {},
   "outputs": [],
   "source": [
    "model.add(Conv2D(32,(3,3),activation='relu'))\n",
    "model.add(MaxPooling2D(pool_size =(2,2)))\n",
    "model.add(Flatten())"
   ]
  },
  {
   "cell_type": "code",
   "execution_count": 16,
   "id": "81f21825",
   "metadata": {},
   "outputs": [],
   "source": [
    "model.add(Dense(units=128,activation='relu'))\n",
    "model.add(Dense(units=128,activation='softmax'))"
   ]
  },
  {
   "cell_type": "code",
   "execution_count": 17,
   "id": "1d27d585",
   "metadata": {},
   "outputs": [
    {
     "data": {
      "text/plain": [
       "<bound method Model.summary of <keras.engine.sequential.Sequential object at 0x000001F1F956CBB0>>"
      ]
     },
     "execution_count": 17,
     "metadata": {},
     "output_type": "execute_result"
    }
   ],
   "source": [
    "model.summary"
   ]
  },
  {
   "cell_type": "code",
   "execution_count": 22,
   "id": "62714d5b",
   "metadata": {},
   "outputs": [],
   "source": [
    "model.compile(optimizer='adam',loss='sparse_categorical_crossentropy',metrics=['accuracy'])"
   ]
  },
  {
   "cell_type": "code",
   "execution_count": 23,
   "id": "c1fed411",
   "metadata": {},
   "outputs": [
    {
     "name": "stderr",
     "output_type": "stream",
     "text": [
      "C:\\Users\\HP\\AppData\\Local\\Temp\\ipykernel_14884\\3377000683.py:1: UserWarning: `Model.fit_generator` is deprecated and will be removed in a future version. Please use `Model.fit`, which supports generators.\n",
      "  model.fit_generator(\n"
     ]
    },
    {
     "name": "stdout",
     "output_type": "stream",
     "text": [
      "Epoch 1/20\n",
      "526/526 [==============================] - 52s 97ms/step - loss: 0.0187 - accuracy: 0.9981 - val_loss: 136.6528 - val_accuracy: 0.1488\n",
      "Epoch 2/20\n",
      "526/526 [==============================] - 15s 28ms/step - loss: 0.0000e+00 - accuracy: 1.0000 - val_loss: 136.6529 - val_accuracy: 0.1488\n",
      "Epoch 3/20\n",
      "526/526 [==============================] - 15s 29ms/step - loss: 0.0000e+00 - accuracy: 1.0000 - val_loss: 136.6528 - val_accuracy: 0.1488\n",
      "Epoch 4/20\n",
      "526/526 [==============================] - 16s 30ms/step - loss: 0.0000e+00 - accuracy: 1.0000 - val_loss: 136.6528 - val_accuracy: 0.1488\n",
      "Epoch 5/20\n",
      "526/526 [==============================] - 21s 39ms/step - loss: 0.0000e+00 - accuracy: 1.0000 - val_loss: 136.6528 - val_accuracy: 0.1488\n",
      "Epoch 6/20\n",
      "526/526 [==============================] - 16s 29ms/step - loss: 0.0000e+00 - accuracy: 1.0000 - val_loss: 136.6528 - val_accuracy: 0.1488\n",
      "Epoch 7/20\n",
      "526/526 [==============================] - 16s 30ms/step - loss: 0.0000e+00 - accuracy: 1.0000 - val_loss: 136.6528 - val_accuracy: 0.1488\n",
      "Epoch 8/20\n",
      "526/526 [==============================] - 15s 28ms/step - loss: 0.0000e+00 - accuracy: 1.0000 - val_loss: 136.6528 - val_accuracy: 0.1488\n",
      "Epoch 9/20\n",
      "526/526 [==============================] - 15s 28ms/step - loss: 0.0000e+00 - accuracy: 1.0000 - val_loss: 136.6528 - val_accuracy: 0.1488\n",
      "Epoch 10/20\n",
      "526/526 [==============================] - 15s 28ms/step - loss: 0.0000e+00 - accuracy: 1.0000 - val_loss: 136.6528 - val_accuracy: 0.1488\n",
      "Epoch 11/20\n",
      "526/526 [==============================] - 15s 28ms/step - loss: 0.0000e+00 - accuracy: 1.0000 - val_loss: 136.6528 - val_accuracy: 0.1488\n",
      "Epoch 12/20\n",
      "526/526 [==============================] - 15s 28ms/step - loss: 0.0000e+00 - accuracy: 1.0000 - val_loss: 136.6528 - val_accuracy: 0.1488\n",
      "Epoch 13/20\n",
      "526/526 [==============================] - 16s 30ms/step - loss: 0.0000e+00 - accuracy: 1.0000 - val_loss: 136.6529 - val_accuracy: 0.1488\n",
      "Epoch 14/20\n",
      "526/526 [==============================] - 24s 45ms/step - loss: 0.0000e+00 - accuracy: 1.0000 - val_loss: 136.6528 - val_accuracy: 0.1488\n",
      "Epoch 15/20\n",
      "526/526 [==============================] - 22s 43ms/step - loss: 0.0000e+00 - accuracy: 1.0000 - val_loss: 136.6528 - val_accuracy: 0.1488\n",
      "Epoch 16/20\n",
      "526/526 [==============================] - 15s 28ms/step - loss: 0.0000e+00 - accuracy: 1.0000 - val_loss: 136.6528 - val_accuracy: 0.1488\n",
      "Epoch 17/20\n",
      "526/526 [==============================] - 15s 28ms/step - loss: 0.0000e+00 - accuracy: 1.0000 - val_loss: 136.6528 - val_accuracy: 0.1488\n",
      "Epoch 18/20\n",
      "526/526 [==============================] - 15s 28ms/step - loss: 0.0000e+00 - accuracy: 1.0000 - val_loss: 136.6528 - val_accuracy: 0.1488\n",
      "Epoch 19/20\n",
      "526/526 [==============================] - 15s 29ms/step - loss: 0.0000e+00 - accuracy: 1.0000 - val_loss: 136.6528 - val_accuracy: 0.1488\n",
      "Epoch 20/20\n",
      "526/526 [==============================] - 15s 29ms/step - loss: 0.0000e+00 - accuracy: 1.0000 - val_loss: 136.6528 - val_accuracy: 0.1488\n"
     ]
    },
    {
     "data": {
      "text/plain": [
       "<keras.callbacks.History at 0x1f1fb01f250>"
      ]
     },
     "execution_count": 23,
     "metadata": {},
     "output_type": "execute_result"
    }
   ],
   "source": [
    "model.fit_generator(\n",
    "generator=x_train,steps_per_epoch=len(x_train),\n",
    "epochs=20,validation_data=x_test,validation_steps=len(x_test))"
   ]
  },
  {
   "cell_type": "code",
   "execution_count": 24,
   "id": "da66b0a6",
   "metadata": {},
   "outputs": [],
   "source": [
    "model.save('nutrition.h5')"
   ]
  },
  {
   "cell_type": "code",
   "execution_count": null,
   "id": "ea748844",
   "metadata": {},
   "outputs": [],
   "source": []
  },
  {
   "cell_type": "code",
   "execution_count": null,
   "id": "d6e48ac3",
   "metadata": {},
   "outputs": [],
   "source": []
  }
 ],
 "metadata": {
  "kernelspec": {
   "display_name": "Python 3 (ipykernel)",
   "language": "python",
   "name": "python3"
  },
  "language_info": {
   "codemirror_mode": {
    "name": "ipython",
    "version": 3
   },
   "file_extension": ".py",
   "mimetype": "text/x-python",
   "name": "python",
   "nbconvert_exporter": "python",
   "pygments_lexer": "ipython3",
   "version": "3.9.7"
  }
 },
 "nbformat": 4,
 "nbformat_minor": 5
}
