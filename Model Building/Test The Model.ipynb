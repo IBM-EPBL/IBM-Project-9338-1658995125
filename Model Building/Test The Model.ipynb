{
 "cells": [
  {
   "cell_type": "code",
   "execution_count": 69,
   "id": "9e95bb48",
   "metadata": {},
   "outputs": [
    {
     "name": "stdout",
     "output_type": "stream",
     "text": [
      "Found 2626 images belonging to 1 classes.\n",
      "Found 1055 images belonging to 5 classes.\n"
     ]
    }
   ],
   "source": [
    "from keras.preprocessing.image import ImageDataGenerator\n",
    "train_datagen = ImageDataGenerator(rescale = 1./255,shear_range=0.2,zoom_range=0.2,horizontal_flip=True)\n",
    "test_datagen = ImageDataGenerator(rescale = 1./255)\n",
    "x_train = train_datagen.flow_from_directory(r'C:\\Users\\HP\\Desktop\\data_set\\TRAIN_SET',target_size = (64,64) ,batch_size = 5,color_mode='rgb',class_mode = 'sparse')\n",
    "x_test = test_datagen.flow_from_directory(r'C:\\Users\\HP\\Desktop\\data_set\\TEST_SET-20221101T044129Z-001\\TEST_SET',target_size = (64,64) ,batch_size = 5,color_mode='rgb',class_mode = 'sparse')"
   ]
  },
  {
   "cell_type": "code",
   "execution_count": 70,
   "id": "b777843a",
   "metadata": {},
   "outputs": [],
   "source": [
    "import numpy as np #used for numerical analysis\n",
    "import tensorflow #open source used for both ML and DL for computatio\n",
    "from tensorflow.keras.models import Sequential #it is a palin stack of layer \n",
    "from tensorflow.keras.layers import Layer #Alayer consists of a tensor-in tensor-out computation function\n",
    "from tensorflow.keras.layers import Dense,Flatten #flattening the input or change the dimension\n",
    "from tensorflow.keras.layers import Conv2D,MaxPooling2D,Dropout #convolution layer , MaxPooling2D-for downsampling the image\n",
    "from keras.preprocessing.image import ImageDataGenerator"
   ]
  },
  {
   "cell_type": "code",
   "execution_count": 71,
   "id": "7b45e45c",
   "metadata": {},
   "outputs": [],
   "source": [
    "model=Sequential()"
   ]
  },
  {
   "cell_type": "code",
   "execution_count": 72,
   "id": "7a5465b9",
   "metadata": {},
   "outputs": [],
   "source": [
    "model.add(Conv2D(32,(3,3),input_shape=(64,64,3),activation='relu'))"
   ]
  },
  {
   "cell_type": "code",
   "execution_count": 73,
   "id": "f0b11989",
   "metadata": {},
   "outputs": [],
   "source": [
    "model.add(MaxPooling2D(pool_size =(2,2)))"
   ]
  },
  {
   "cell_type": "code",
   "execution_count": 74,
   "id": "c439b6b3",
   "metadata": {},
   "outputs": [],
   "source": [
    "model.add(Conv2D(32,(3,3),activation='relu'))\n",
    "model.add(MaxPooling2D(pool_size =(2,2)))\n",
    "model.add(Flatten())"
   ]
  },
  {
   "cell_type": "code",
   "execution_count": 75,
   "id": "7bc3ce3f",
   "metadata": {},
   "outputs": [],
   "source": [
    "model.add(Dense(units=128,activation='relu'))\n",
    "model.add(Dense(units=128,activation='softmax'))"
   ]
  },
  {
   "cell_type": "code",
   "execution_count": 76,
   "id": "3a6c32e3",
   "metadata": {},
   "outputs": [
    {
     "data": {
      "text/plain": [
       "<bound method Model.summary of <keras.engine.sequential.Sequential object at 0x000001F18085AA30>>"
      ]
     },
     "execution_count": 76,
     "metadata": {},
     "output_type": "execute_result"
    }
   ],
   "source": [
    "model.summary"
   ]
  },
  {
   "cell_type": "code",
   "execution_count": 77,
   "id": "a6e216b4",
   "metadata": {},
   "outputs": [],
   "source": [
    "model.compile(optimizer='adam',loss='sparse_categorical_crossentropy',metrics=['accuracy'])"
   ]
  },
  {
   "cell_type": "code",
   "execution_count": 23,
   "id": "7e30c151",
   "metadata": {},
   "outputs": [
    {
     "name": "stderr",
     "output_type": "stream",
     "text": [
      "C:\\Users\\HP\\AppData\\Local\\Temp\\ipykernel_14884\\3377000683.py:1: UserWarning: `Model.fit_generator` is deprecated and will be removed in a future version. Please use `Model.fit`, which supports generators.\n",
      "  model.fit_generator(\n"
     ]
    },
    {
     "name": "stdout",
     "output_type": "stream",
     "text": [
      "Epoch 1/20\n",
      "526/526 [==============================] - 52s 97ms/step - loss: 0.0187 - accuracy: 0.9981 - val_loss: 136.6528 - val_accuracy: 0.1488\n",
      "Epoch 2/20\n",
      "526/526 [==============================] - 15s 28ms/step - loss: 0.0000e+00 - accuracy: 1.0000 - val_loss: 136.6529 - val_accuracy: 0.1488\n",
      "Epoch 3/20\n",
      "526/526 [==============================] - 15s 29ms/step - loss: 0.0000e+00 - accuracy: 1.0000 - val_loss: 136.6528 - val_accuracy: 0.1488\n",
      "Epoch 4/20\n",
      "526/526 [==============================] - 16s 30ms/step - loss: 0.0000e+00 - accuracy: 1.0000 - val_loss: 136.6528 - val_accuracy: 0.1488\n",
      "Epoch 5/20\n",
      "526/526 [==============================] - 21s 39ms/step - loss: 0.0000e+00 - accuracy: 1.0000 - val_loss: 136.6528 - val_accuracy: 0.1488\n",
      "Epoch 6/20\n",
      "526/526 [==============================] - 16s 29ms/step - loss: 0.0000e+00 - accuracy: 1.0000 - val_loss: 136.6528 - val_accuracy: 0.1488\n",
      "Epoch 7/20\n",
      "526/526 [==============================] - 16s 30ms/step - loss: 0.0000e+00 - accuracy: 1.0000 - val_loss: 136.6528 - val_accuracy: 0.1488\n",
      "Epoch 8/20\n",
      "526/526 [==============================] - 15s 28ms/step - loss: 0.0000e+00 - accuracy: 1.0000 - val_loss: 136.6528 - val_accuracy: 0.1488\n",
      "Epoch 9/20\n",
      "526/526 [==============================] - 15s 28ms/step - loss: 0.0000e+00 - accuracy: 1.0000 - val_loss: 136.6528 - val_accuracy: 0.1488\n",
      "Epoch 10/20\n",
      "526/526 [==============================] - 15s 28ms/step - loss: 0.0000e+00 - accuracy: 1.0000 - val_loss: 136.6528 - val_accuracy: 0.1488\n",
      "Epoch 11/20\n",
      "526/526 [==============================] - 15s 28ms/step - loss: 0.0000e+00 - accuracy: 1.0000 - val_loss: 136.6528 - val_accuracy: 0.1488\n",
      "Epoch 12/20\n",
      "526/526 [==============================] - 15s 28ms/step - loss: 0.0000e+00 - accuracy: 1.0000 - val_loss: 136.6528 - val_accuracy: 0.1488\n",
      "Epoch 13/20\n",
      "526/526 [==============================] - 16s 30ms/step - loss: 0.0000e+00 - accuracy: 1.0000 - val_loss: 136.6529 - val_accuracy: 0.1488\n",
      "Epoch 14/20\n",
      "526/526 [==============================] - 24s 45ms/step - loss: 0.0000e+00 - accuracy: 1.0000 - val_loss: 136.6528 - val_accuracy: 0.1488\n",
      "Epoch 15/20\n",
      "526/526 [==============================] - 22s 43ms/step - loss: 0.0000e+00 - accuracy: 1.0000 - val_loss: 136.6528 - val_accuracy: 0.1488\n",
      "Epoch 16/20\n",
      "526/526 [==============================] - 15s 28ms/step - loss: 0.0000e+00 - accuracy: 1.0000 - val_loss: 136.6528 - val_accuracy: 0.1488\n",
      "Epoch 17/20\n",
      "526/526 [==============================] - 15s 28ms/step - loss: 0.0000e+00 - accuracy: 1.0000 - val_loss: 136.6528 - val_accuracy: 0.1488\n",
      "Epoch 18/20\n",
      "526/526 [==============================] - 15s 28ms/step - loss: 0.0000e+00 - accuracy: 1.0000 - val_loss: 136.6528 - val_accuracy: 0.1488\n",
      "Epoch 19/20\n",
      "526/526 [==============================] - 15s 29ms/step - loss: 0.0000e+00 - accuracy: 1.0000 - val_loss: 136.6528 - val_accuracy: 0.1488\n",
      "Epoch 20/20\n",
      "526/526 [==============================] - 15s 29ms/step - loss: 0.0000e+00 - accuracy: 1.0000 - val_loss: 136.6528 - val_accuracy: 0.1488\n"
     ]
    },
    {
     "data": {
      "text/plain": [
       "<keras.callbacks.History at 0x1f1fb01f250>"
      ]
     },
     "execution_count": 23,
     "metadata": {},
     "output_type": "execute_result"
    }
   ],
   "source": [
    "model.fit_generator(\n",
    "generator=x_train,steps_per_epoch=len(x_train),\n",
    "epochs=20,validation_data=x_test,validation_steps=len(x_test))"
   ]
  },
  {
   "cell_type": "code",
   "execution_count": 78,
   "id": "e5780dee",
   "metadata": {},
   "outputs": [],
   "source": [
    "model.save('nutrition.h5')"
   ]
  },
  {
   "cell_type": "code",
   "execution_count": 79,
   "id": "390caff2",
   "metadata": {},
   "outputs": [],
   "source": [
    "from tensorflow.keras.models import load_model\n",
    "from keras_preprocessing import image\n",
    "from keras_preprocessing.image import load_img\n",
    "from keras_preprocessing.image import img_to_array"
   ]
  },
  {
   "cell_type": "code",
   "execution_count": 106,
   "id": "82408151",
   "metadata": {},
   "outputs": [],
   "source": [
    "model = load_model(\"nutrition.h5\")\n",
    "labels=['APPLES','BANANA','ORANGE','PINEAPPLE','WATERMELON']"
   ]
  },
  {
   "cell_type": "code",
   "execution_count": 111,
   "id": "843d9a6b",
   "metadata": {},
   "outputs": [
    {
     "name": "stdout",
     "output_type": "stream",
     "text": [
      "1/1 [==============================] - 0s 31ms/step\n"
     ]
    },
    {
     "data": {
      "text/plain": [
       "'APPLES'"
      ]
     },
     "execution_count": 111,
     "metadata": {},
     "output_type": "execute_result"
    }
   ],
   "source": [
    "img = load_img(r\"C:\\Users\\HP\\Desktop\\data_set\\TEST_SET-20221101T044129Z-001\\TEST_SET\\APPLES\\3_100.jpg\",grayscale=False,target_size=(64,64))\n",
    "x = img_to_array(img)\n",
    "x=np.expand_dims(x,[0])\n",
    "pred = model.predict(x)\n",
    "y_class = answer.argmax(axis=-1)\n",
    "y = \" \".join(str(x) for x in y_class)\n",
    "y = int(y)\n",
    "res = labels[y]\n",
    "res"
   ]
  },
  {
   "cell_type": "code",
   "execution_count": null,
   "id": "11aa7733",
   "metadata": {},
   "outputs": [],
   "source": []
  },
  {
   "cell_type": "code",
   "execution_count": null,
   "id": "a7573ae1",
   "metadata": {},
   "outputs": [],
   "source": []
  },
  {
   "cell_type": "code",
   "execution_count": null,
   "id": "5c09fa2c",
   "metadata": {},
   "outputs": [],
   "source": []
  }
 ],
 "metadata": {
  "kernelspec": {
   "display_name": "Python 3 (ipykernel)",
   "language": "python",
   "name": "python3"
  },
  "language_info": {
   "codemirror_mode": {
    "name": "ipython",
    "version": 3
   },
   "file_extension": ".py",
   "mimetype": "text/x-python",
   "name": "python",
   "nbconvert_exporter": "python",
   "pygments_lexer": "ipython3",
   "version": "3.9.7"
  }
 },
 "nbformat": 4,
 "nbformat_minor": 5
}
